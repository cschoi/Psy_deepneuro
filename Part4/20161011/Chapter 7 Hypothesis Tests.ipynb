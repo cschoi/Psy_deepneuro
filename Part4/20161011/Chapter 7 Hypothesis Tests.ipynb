{
 "cells": [
  {
   "cell_type": "markdown",
   "metadata": {},
   "source": [
    "# Chapter 7 Hypothesis Tests"
   ]
  },
  {
   "cell_type": "markdown",
   "metadata": {},
   "source": [
    "- Different types of errors\n",
    "- Interpretation of p-values\n",
    "- Concepts of **sensitivity** and **specificity**"
   ]
  },
  {
   "cell_type": "markdown",
   "metadata": {},
   "source": [
    "## 7.1 Typical Analysis Procedure"
   ]
  },
  {
   "cell_type": "markdown",
   "metadata": {},
   "source": [
    "- Old way : formulate a hypothesis, collect your data, and then accept or reject the hypothesis\n",
    "\n",
    "- Now days : look at the data, and generate models which may explain your data. Then  determine the best fit parameters for these models, and check these models, typically by looking at the residuals\n",
    "\n",
    "> 1) Visually inspect the data.\n",
    "\n",
    "> 2) Find extreme samples, and check them carefully.\n",
    "\n",
    "> 3) Determine the data-type of the values.\n",
    "\n",
    "> 4) If the data are continuous, check whether or not they are normally distributed.\n",
    "\n",
    "> 5) Select and apply the appropriate test, or start with the model-based analysis of\n",
    "the data.\n"
   ]
  },
  {
   "cell_type": "markdown",
   "metadata": {},
   "source": [
    "### 7.1.1 Data Screening and Outliers"
   ]
  },
  {
   "cell_type": "markdown",
   "metadata": {},
   "source": [
    "- There is no unique definition for outliers\n",
    "- for normally distributed samples they are often defined as data that lie either more than **1.5*IQR (inter- quartile range), or more than two standard deviations**, from the sample mean"
   ]
  },
  {
   "cell_type": "markdown",
   "metadata": {},
   "source": [
    "### 7.1.2 Normality Check"
   ]
  },
  {
   "cell_type": "markdown",
   "metadata": {},
   "source": [
    "- Parametric tests assume that the data can be well described by a distribution that is defined by one or more parameters, **in most cases by a normal distribution**. For the given data set, the best-fit parameters for this distribution are then determined, together with their confidence intervals, and interpreted"
   ]
  },
  {
   "cell_type": "markdown",
   "metadata": {},
   "source": [
    "#### a) Probability-Plots"
   ]
  },
  {
   "cell_type": "code",
   "execution_count": 1,
   "metadata": {
    "collapsed": false
   },
   "outputs": [
    {
     "data": {
      "image/png": "[encoded data removed]",
      "text/plain": [
       "<matplotlib.figure.Figure at 0x10cd7a3c8>"
      ]
     },
     "metadata": {},
     "output_type": "display_data"
    }
   ],
   "source": [
    "import numpy as np\n",
    "import matplotlib.pyplot as plt\n",
    "import scipy.stats as stats\n",
    "import pandas as pd\n",
    "from statsmodels.stats.diagnostic import lillifors\n",
    "\n",
    "numData = 1000\n",
    "myMean = 0\n",
    "mySD = 3\n",
    "\n",
    "# To get reproducable values, I provide a seed value\n",
    "np.random.seed(1234)   \n",
    "\n",
    "# Generate and show random data\n",
    "data = stats.norm.rvs(myMean, mySD, size=numData)\n",
    "fewData = data[:100]\n",
    "plt.hist(data)\n",
    "plt.show()"
   ]
  },
  {
   "cell_type": "code",
   "execution_count": 3,
   "metadata": {
    "collapsed": false
   },
   "outputs": [
    {
     "data": {
      "image/png": "[encoded data removed]",
      "text/plain": [
       "<matplotlib.figure.Figure at 0x10cd61f28>"
      ]
     },
     "metadata": {},
     "output_type": "display_data"
    }
   ],
   "source": [
    "_ = stats.probplot(data, plot=plt)\n",
    "plt.show()\n"
   ]
  },
  {
   "cell_type": "markdown",
   "metadata": {},
   "source": [
    "#### b) Tests for Normality"
   ]
  },
  {
   "cell_type": "markdown",
   "metadata": {},
   "source": [
    "- 1) Tests based on comparison (“best fit”) with a given distribution, often specified in terms of its CDF. Examples are the Kolmogorov–Smirnov test, the Lilliefors test, the Anderson–Darling test, the Cramer–von Mises criterion, as well as the Shapiro–Wilk and Shapiro–Francia tests.\n",
    "\n",
    "- 2) Tests based on descriptive statistics of the sample. Examples are the skewness test, the kurtosis test, the D’Agostino–Pearson omnibus test, or the Jarque–Bera test."
   ]
  },
  {
   "cell_type": "code",
   "execution_count": 4,
   "metadata": {
    "collapsed": false
   },
   "outputs": [
    {
     "name": "stdout",
     "output_type": "stream",
     "text": [
      "p-values for all 1000 data points: ----------------\n",
      "Omnibus               0.913684\n",
      "Shapiro-Wilk          0.558474\n",
      "Lilliefors            0.569781\n",
      "Kolmogorov-Smirnov    0.898967\n",
      "dtype: float64\n",
      "p-values for the first 100 data points: ----------------\n",
      "Omnibus               0.004530\n",
      "Shapiro-Wilk          0.047102\n",
      "Lilliefors            0.183717\n",
      "Kolmogorov-Smirnov    0.640677\n",
      "dtype: float64\n"
     ]
    }
   ],
   "source": [
    "pVals = pd.Series()\n",
    "pFewVals = pd.Series()\n",
    "\n",
    "# The scipy normaltest is based on D-Agostino and Pearsons test that\n",
    "# combines skew and kurtosis to produce an omnibus test of normality.\n",
    "_, pVals['Omnibus']    = stats.normaltest(data)\n",
    "_, pFewVals['Omnibus'] = stats.normaltest(fewData)\n",
    "\n",
    "# Shapiro-Wilk test\n",
    "_, pVals['Shapiro-Wilk']    = stats.shapiro(data)\n",
    "_, pFewVals['Shapiro-Wilk'] = stats.shapiro(fewData)\n",
    "\n",
    "# Or you can check for normality with Lilliefors-test\n",
    "_, pVals['Lilliefors']    = lillifors(data)\n",
    "_, pFewVals['Lilliefors'] = lillifors(fewData)\n",
    "\n",
    "# Alternatively with original Kolmogorov-Smirnov test\n",
    "_, pVals['Kolmogorov-Smirnov']    = stats.kstest((data-np.mean(data))/np.std(data,ddof=1), 'norm')\n",
    "_, pFewVals['Kolmogorov-Smirnov'] = stats.kstest((fewData-np.mean(fewData))/np.std(fewData,ddof=1), 'norm')\n",
    "\n",
    "print('p-values for all {0} data points: ----------------'.format(len(data)))\n",
    "print(pVals)\n",
    "print('p-values for the first 100 data points: ----------------')\n",
    "print(pFewVals)"
   ]
  },
  {
   "cell_type": "markdown",
   "metadata": {},
   "source": [
    "### 7.1.3 Transformation"
   ]
  },
  {
   "cell_type": "markdown",
   "metadata": {},
   "source": [
    "- If the data deviate significantly from a normal distribution, it is sometimes possible to make the distribution approximately normal by transforming the data. For example, data often have values that can only be positive (e.g., the size of persons), and that have long positive tail: such data can often be made normal by applying a log transform."
   ]
  },
  {
   "cell_type": "markdown",
   "metadata": {},
   "source": [
    "----"
   ]
  },
  {
   "cell_type": "markdown",
   "metadata": {},
   "source": [
    "## 7.2 Hypothesis Concept, Errors, p-Value, and Sample Size"
   ]
  },
  {
   "cell_type": "markdown",
   "metadata": {},
   "source": [
    "### 7.2.1 An Example"
   ]
  },
  {
   "cell_type": "code",
   "execution_count": null,
   "metadata": {
    "collapsed": true
   },
   "outputs": [],
   "source": []
  }
 ],
 "metadata": {
  "kernelspec": {
   "display_name": "Python 3",
   "language": "python",
   "name": "python3"
  },
  "language_info": {
   "codemirror_mode": {
    "name": "ipython",
    "version": 3
   },
   "file_extension": ".py",
   "mimetype": "text/x-python",
   "name": "python",
   "nbconvert_exporter": "python",
   "pygments_lexer": "ipython3",
   "version": "3.5.1"
  }
 },
 "nbformat": 4,
 "nbformat_minor": 1
}
